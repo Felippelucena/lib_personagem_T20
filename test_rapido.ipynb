{
 "cells": [
  {
   "cell_type": "code",
   "execution_count": 13,
   "metadata": {},
   "outputs": [
    {
     "name": "stdout",
     "output_type": "stream",
     "text": [
      "Poderes: ['Conhecimento das Rochas', 'Devagar e Sempre', 'Duro como Pedra', 'Tradição de Heredrimm']\n"
     ]
    }
   ],
   "source": [
    "from personagem.habilidades_raca import Habilidades_Raca\n",
    "from personagem import Personagem\n",
    "\n",
    "personagem = Personagem(nome='Ragnar')\n",
    "habilidades = Habilidades_Raca(personagem)\n",
    "\n",
    "print(f\"Poderes: {[poder.nome for poder in habilidades.lista['anao']]}\")\n",
    "#print(habilidades.lista['anao'][0].nome)"
   ]
  }
 ],
 "metadata": {
  "kernelspec": {
   "display_name": "Python 3",
   "language": "python",
   "name": "python3"
  },
  "language_info": {
   "codemirror_mode": {
    "name": "ipython",
    "version": 3
   },
   "file_extension": ".py",
   "mimetype": "text/x-python",
   "name": "python",
   "nbconvert_exporter": "python",
   "pygments_lexer": "ipython3",
   "version": "3.10.12"
  }
 },
 "nbformat": 4,
 "nbformat_minor": 2
}
