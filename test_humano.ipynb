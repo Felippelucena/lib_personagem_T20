{
 "cells": [
  {
   "cell_type": "code",
   "execution_count": 1,
   "metadata": {},
   "outputs": [
    {
     "name": "stdout",
     "output_type": "stream",
     "text": [
      "nome: Ragnar\n",
      "atributos: {'for': 0, 'des': 0, 'con': 0, 'int': 0, 'sab': 0, 'car': 0}\n",
      "pontos para distribuir: 10\n",
      "\n"
     ]
    }
   ],
   "source": [
    "from personagem import Personagem\n",
    "\n",
    "#INICIANDO HUMANO\n",
    "\n",
    "personagem = Personagem(nome='Ragnar')\n",
    "\n",
    "print(f'nome: {personagem.nome}')\n",
    "print(f'atributos: {personagem.atributos}')\n",
    "print(f'pontos para distribuir: {personagem.atributos.pontos}')\n",
    "print('')"
   ]
  },
  {
   "cell_type": "code",
   "execution_count": 2,
   "metadata": {},
   "outputs": [
    {
     "name": "stdout",
     "output_type": "stream",
     "text": [
      "atributos: {'for': 3, 'des': 2, 'con': 2, 'int': 2, 'sab': 0, 'car': 0}\n",
      "pontos para distribuir: 0\n",
      "\n"
     ]
    }
   ],
   "source": [
    "#DISTRIBUINDO PONTOS DE ATRIBUTOS\n",
    "\n",
    "personagem.atributos.definir(atributos={'for': 3, 'des': 2, 'con': 2, 'int': 2, 'sab': 0, 'car': 0})\n",
    "\n",
    "print(f'atributos: {personagem.atributos}')\n",
    "print(f'pontos para distribuir: {personagem.atributos.pontos}')\n",
    "print('')"
   ]
  },
  {
   "cell_type": "code",
   "execution_count": 3,
   "metadata": {},
   "outputs": [
    {
     "name": "stdout",
     "output_type": "stream",
     "text": [
      "Raça humano!\n",
      "Atuação: {'atributo': 'car', 'base': 0, 'mod': 0, 'palavras_chaves': ['somente_treinado', 'treinado', 'humano']}\n",
      "Atletismo: {'atributo': 'for', 'base': 0, 'mod': 0, 'palavras_chaves': ['treinado', 'humano']}\n",
      "Poderes raça: None\n",
      "atributos total: {'for': 4, 'des': 3, 'con': 2, 'int': 3, 'sab': 0, 'car': 0}\n",
      "('for', {'base': 3, 'humano': 1})\n",
      "('des', {'base': 2, 'humano': 1})\n",
      "('con', {'base': 2})\n",
      "('int', {'base': 2, 'humano': 1})\n",
      "('sab', {'base': 0})\n",
      "('car', {'base': 0})\n"
     ]
    }
   ],
   "source": [
    "#DEFININDO A RAÇA\n",
    "\n",
    "personagem.raca.definir(raca='humano', atributos={'for':1, 'des':1, 'int':1}, pericias=['atuacao','atletismo'], personagem=personagem)\n",
    "\n",
    "print(f'Raça {personagem.raca.nome}!')\n",
    "print(f'Atuação: {personagem.pericias.lista[\"atuacao\"]}')\n",
    "print(f'Atletismo: {personagem.pericias.lista[\"atletismo\"]}')\n",
    "print(f'Poderes raça: {personagem.raca.poderes}')\n",
    "print(f'atributos total: {personagem.atributos}')\n",
    "\n",
    "\n",
    "for atributo in personagem.atributos.lista.items():\n",
    "    print(atributo)"
   ]
  }
 ],
 "metadata": {
  "kernelspec": {
   "display_name": "Python 3",
   "language": "python",
   "name": "python3"
  },
  "language_info": {
   "codemirror_mode": {
    "name": "ipython",
    "version": 3
   },
   "file_extension": ".py",
   "mimetype": "text/x-python",
   "name": "python",
   "nbconvert_exporter": "python",
   "pygments_lexer": "ipython3",
   "version": "3.10.12"
  }
 },
 "nbformat": 4,
 "nbformat_minor": 2
}
