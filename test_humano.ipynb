{
 "cells": [
  {
   "cell_type": "code",
   "execution_count": 1,
   "metadata": {},
   "outputs": [
    {
     "name": "stdout",
     "output_type": "stream",
     "text": [
      "nome: Ragnar\n",
      "atributos: {'for': 0, 'des': 0, 'con': 0, 'int': 0, 'sab': 0, 'car': 0}\n",
      "pontos para distribuir: 10\n",
      "\n"
     ]
    }
   ],
   "source": [
    "from personagem.construtor import Construtor\n",
    "from personagem import Personagem\n",
    "\n",
    "\n",
    "#INICIANDO HUMANO\n",
    "\n",
    "personagem = Personagem(nome='Ragnar')\n",
    "construtor = Construtor(personagem)\n",
    "\n",
    "print(f'nome: {personagem.nome}')\n",
    "print(f'atributos: {personagem.atributos}')\n",
    "print(f'pontos para distribuir: {personagem.atributos.pontos}')\n",
    "print('')"
   ]
  },
  {
   "cell_type": "code",
   "execution_count": 2,
   "metadata": {},
   "outputs": [
    {
     "name": "stdout",
     "output_type": "stream",
     "text": [
      "atributos: {'for': 3, 'des': 2, 'con': 2, 'int': 2, 'sab': 0, 'car': 0}\n",
      "pontos para distribuir: 0\n",
      "\n"
     ]
    }
   ],
   "source": [
    "#DISTRIBUINDO PONTOS DE ATRIBUTOS\n",
    "\n",
    "construtor.definir_atributos(atributos={'for': 3, 'des': 2, 'con': 2, 'int': 2, 'sab': 0, 'car': 0})\n",
    "\n",
    "print(f'atributos: {personagem.atributos}')\n",
    "print(f'pontos para distribuir: {personagem.atributos.pontos}')\n",
    "print('')"
   ]
  },
  {
   "cell_type": "code",
   "execution_count": 3,
   "metadata": {},
   "outputs": [
    {
     "name": "stdout",
     "output_type": "stream",
     "text": [
      "Raça humano!\n",
      "Atuação: {'atributo': 'car', 'base': 0, 'mod': 0, 'tags': ['somente_treinado', 'treinado', 'humano']}\n",
      "Atletismo: {'atributo': 'for', 'base': 0, 'mod': 0, 'tags': []}\n",
      "Habilidades raça: dict_keys([])\n",
      "Poderes: dict_keys(['Atributos Mínimos', 'Test_humano'])\n",
      "atributos total: {'for': 4, 'des': 3, 'con': 2, 'int': 3, 'sab': 0, 'car': 0}\n",
      "('for', {'base': 3, 'humano': 1})\n",
      "('des', {'base': 2, 'humano': 1})\n",
      "('con', {'base': 2})\n",
      "('int', {'base': 2, 'humano': 1})\n",
      "('sab', {'base': 0})\n",
      "('car', {'base': 0})\n"
     ]
    }
   ],
   "source": [
    "#DEFININDO A RAÇA\n",
    "\n",
    "#Duas Pericias:\n",
    "#construtor.definir_raca(raca='humano', atributos={'for':1, 'des':1, 'int':1}, pericias=['atuacao','atletismo'])\n",
    "\n",
    "#Uma pericia e um poder:\n",
    "construtor.definir_raca(raca='humano', atributos={'for':1, 'des':1, 'int':1}, pericias=['atuacao'], poderes={'Test_humano': {'usar': 'poder_humano', 'tags': ['ativa', 'humano']}})\n",
    "\n",
    "print(f'Raça {personagem.raca.nome}!')\n",
    "print(f'Atuação: {personagem.pericias.lista[\"atuacao\"]}')\n",
    "print(f'Atletismo: {personagem.pericias.lista[\"atletismo\"]}')\n",
    "print(f'Habilidades raça: {personagem.raca.habilidades.keys()}')\n",
    "print(f'Poderes: {personagem.poderes.lista.keys()}')\n",
    "print(f'atributos total: {personagem.atributos}')\n",
    "\n",
    "\n",
    "for atributo in personagem.atributos.lista.items():\n",
    "    print(atributo)"
   ]
  },
  {
   "cell_type": "code",
   "execution_count": 4,
   "metadata": {},
   "outputs": [
    {
     "data": {
      "text/plain": [
       "'poder_humano'"
      ]
     },
     "execution_count": 4,
     "metadata": {},
     "output_type": "execute_result"
    }
   ],
   "source": [
    "personagem.poderes.lista['Test_humano']['usar']"
   ]
  }
 ],
 "metadata": {
  "kernelspec": {
   "display_name": "Python 3",
   "language": "python",
   "name": "python3"
  },
  "language_info": {
   "codemirror_mode": {
    "name": "ipython",
    "version": 3
   },
   "file_extension": ".py",
   "mimetype": "text/x-python",
   "name": "python",
   "nbconvert_exporter": "python",
   "pygments_lexer": "ipython3",
   "version": "3.10.12"
  }
 },
 "nbformat": 4,
 "nbformat_minor": 2
}
