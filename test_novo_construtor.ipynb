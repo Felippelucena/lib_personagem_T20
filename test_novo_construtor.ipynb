{
 "cells": [
  {
   "cell_type": "code",
   "execution_count": 5,
   "metadata": {},
   "outputs": [
    {
     "name": "stdout",
     "output_type": "stream",
     "text": [
      "Nome: Claiton\n",
      "Raça: None\n",
      "Classe: None\n",
      "Nível: 1\n",
      "Divindade: None\n",
      "Atributos: {'for': 0, 'des': 2, 'con': 1, 'int': 1, 'sab': 1, 'car': 1}\n",
      "PV Atual: 10\n",
      "PV Máximo: 12\n",
      "PM Atual: 5\n",
      "Localização: None\n",
      "\n",
      "humano (é treinado em duas pericias a sua escolha) - Ativa: None - Passiva: None\n",
      "Nome: Claiton\n",
      "Raça: None\n",
      "Classe: None\n",
      "Nível: 1\n",
      "Divindade: None\n",
      "Atributos: {'for': 1, 'des': 3, 'con': 2, 'int': 1, 'sab': 1, 'car': 1}\n",
      "PV Atual: 10\n",
      "PV Máximo: 13\n",
      "PM Atual: 5\n",
      "Localização: None\n",
      "\n",
      "Nome: Claiton\n",
      "Raça: None\n",
      "Classe: None\n",
      "Nível: 1\n",
      "Divindade: None\n",
      "Atributos: {'for': 1, 'des': 3, 'con': 2, 'int': 1, 'sab': 1, 'car': 1}\n",
      "PV Atual: 10\n",
      "PV Máximo: 13\n",
      "PM Atual: 5\n",
      "Localização: None\n",
      "\n"
     ]
    }
   ],
   "source": [
    "from construtor.habilidades import Habilidade\n",
    "from personagem import Personagem\n",
    "from personagem.construtor import Construtor\n",
    "from personagem.controlador import Controlador\n",
    "\n",
    "perso1 = Personagem(nome='Claiton')\n",
    "construtor = Construtor(perso1)\n",
    "controlador = Controlador(perso1)\n",
    "construtor.definir_atributos(dados=perso1.dados)\n",
    "humano = Habilidade(nome='humano', descricao='é treinado em duas pericias a sua escolha', iniciar={'atributos-add': {'for': 1, 'des': 1, 'con': 1}})\n",
    "print(perso1)\n",
    "print(humano)\n",
    "controlador.iniciar(humano)\n",
    "print(perso1)\n",
    "controlador.iniciar(humano)\n",
    "print(perso1)\n"
   ]
  }
 ],
 "metadata": {
  "kernelspec": {
   "display_name": "Python 3",
   "language": "python",
   "name": "python3"
  },
  "language_info": {
   "codemirror_mode": {
    "name": "ipython",
    "version": 3
   },
   "file_extension": ".py",
   "mimetype": "text/x-python",
   "name": "python",
   "nbconvert_exporter": "python",
   "pygments_lexer": "ipython3",
   "version": "3.10.12"
  }
 },
 "nbformat": 4,
 "nbformat_minor": 2
}
