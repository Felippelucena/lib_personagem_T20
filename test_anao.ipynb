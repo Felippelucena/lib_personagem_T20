{
 "cells": [
  {
   "cell_type": "code",
   "execution_count": 1,
   "metadata": {},
   "outputs": [
    {
     "name": "stdout",
     "output_type": "stream",
     "text": [
      "nome: Thorin\n",
      "atributos: {'for': 0, 'des': 0, 'con': 0, 'int': 0, 'sab': 0, 'car': 0}\n",
      "pontos para distribuir: 10\n",
      "\n"
     ]
    }
   ],
   "source": [
    "from personagem import Personagem\n",
    "\n",
    "#INICIANDO ANAO\n",
    "\n",
    "personagem = Personagem(nome='Thorin')\n",
    "\n",
    "print(f'nome: {personagem.nome}')\n",
    "print(f'atributos: {personagem.atributos}')\n",
    "print(f'pontos para distribuir: {personagem.atributos.pontos}')\n",
    "print('')"
   ]
  },
  {
   "cell_type": "code",
   "execution_count": 2,
   "metadata": {},
   "outputs": [
    {
     "name": "stdout",
     "output_type": "stream",
     "text": [
      "[16, 7, 6]\n"
     ]
    }
   ],
   "source": [
    "#ROLAR DADOS\n",
    "\n",
    "print(personagem.dados.rolar(3,20))"
   ]
  },
  {
   "cell_type": "code",
   "execution_count": 3,
   "metadata": {},
   "outputs": [
    {
     "name": "stdout",
     "output_type": "stream",
     "text": [
      "atributos: {'for': 1, 'des': 2, 'con': 2, 'int': 2, 'sab': 2, 'car': 3}\n",
      "pontos para distribuir: 0\n",
      "\n"
     ]
    }
   ],
   "source": [
    "#DISTRIBUINDO ATRIBUTOS ALEATORIOS\n",
    "\n",
    "personagem.atributos.definir(dados=personagem.dados)\n",
    "\n",
    "print(f'atributos: {personagem.atributos}')\n",
    "print(f'pontos para distribuir: {personagem.atributos.pontos}')\n",
    "print('')"
   ]
  },
  {
   "cell_type": "code",
   "execution_count": 4,
   "metadata": {},
   "outputs": [
    {
     "name": "stdout",
     "output_type": "stream",
     "text": [
      "Raça anao!\n",
      "atributos total: {'for': 1, 'des': 1, 'con': 4, 'int': 2, 'sab': 3, 'car': 3}\n",
      "('for', {'base': 1})\n",
      "('des', {'base': 2, 'anao': -1})\n",
      "('con', {'base': 2, 'anao': 2})\n",
      "('int', {'base': 2})\n",
      "('sab', {'base': 2, 'anao': 1})\n",
      "('car', {'base': 3})\n"
     ]
    }
   ],
   "source": [
    "#DEFININDO A RAÇA\n",
    "\n",
    "personagem.raca.definir(raca='anao', personagem=personagem)\n",
    "\n",
    "print(f'Raça {personagem.raca.nome}!')\n",
    "print(f'atributos total: {personagem.atributos}')\n",
    "\n",
    "for atributo in personagem.atributos.lista.items():\n",
    "    print(atributo)"
   ]
  },
  {
   "cell_type": "code",
   "execution_count": 5,
   "metadata": {},
   "outputs": [
    {
     "name": "stdout",
     "output_type": "stream",
     "text": [
      "Conhecimento das Rochas\n",
      "Devagar e Sempre\n",
      "Duro como Pedra\n",
      "Tradição de Heredrimm\n"
     ]
    }
   ],
   "source": [
    "#ACESSANDO PODERES DA RAÇA\n",
    "\n",
    "for poder in personagem.raca.poderes['passivas'].keys():\n",
    "    print(poder)"
   ]
  },
  {
   "cell_type": "code",
   "execution_count": 6,
   "metadata": {},
   "outputs": [
    {
     "data": {
      "text/plain": [
       "'Você recebe visão no escuro e +2 em testes de Percepção e Sobrevivência realizados no subterrâneo.'"
      ]
     },
     "execution_count": 6,
     "metadata": {},
     "output_type": "execute_result"
    }
   ],
   "source": [
    "#USANDO PODERES DA RAÇA\n",
    "\n",
    "personagem.raca.poderes['passivas']['Conhecimento das Rochas'](personagem)"
   ]
  },
  {
   "cell_type": "code",
   "execution_count": 7,
   "metadata": {},
   "outputs": [
    {
     "name": "stdout",
     "output_type": "stream",
     "text": [
      "Localizacao: None\n",
      "Pericia Sobrevivencia: {'atributo': 'sab', 'base': 0, 'mod': 0, 'palavras_chaves': []}\n",
      "Pericia Percepcao: {'atributo': 'sab', 'base': 0, 'mod': 0, 'palavras_chaves': []}\n",
      "Localizacao: subterraneo\n",
      "Pericia Sobrevivencia: {'atributo': 'sab', 'base': 0, 'mod': 2, 'palavras_chaves': ['conhecimento_das_rochas']}\n",
      "Pericia Percepcao: {'atributo': 'sab', 'base': 0, 'mod': 2, 'palavras_chaves': ['conhecimento_das_rochas']}\n",
      "Localizacao: None\n",
      "Pericia Sobrevivencia: {'atributo': 'sab', 'base': 0, 'mod': 0, 'palavras_chaves': []}\n",
      "Pericia Percepcao: {'atributo': 'sab', 'base': 0, 'mod': 0, 'palavras_chaves': []}\n"
     ]
    }
   ],
   "source": [
    "#TESTE PASSSIVA 'Conhecimento das Rochas'\n",
    "\n",
    "print(f\"Localizacao: {personagem.localizacao}\")\n",
    "print(f\"Pericia Sobrevivencia: {personagem.pericias.lista['sobrevivencia']}\")\n",
    "print(f\"Pericia Percepcao: {personagem.pericias.lista['percepcao']}\")\n",
    "personagem.localizacao = 'subterraneo'\n",
    "personagem.ativar_passivas(personagem)\n",
    "print(f\"Localizacao: {personagem.localizacao}\")\n",
    "print(f\"Pericia Sobrevivencia: {personagem.pericias.lista['sobrevivencia']}\")\n",
    "print(f\"Pericia Percepcao: {personagem.pericias.lista['percepcao']}\")\n",
    "personagem.localizacao = None\n",
    "personagem.ativar_passivas(personagem)\n",
    "print(f\"Localizacao: {personagem.localizacao}\")\n",
    "print(f\"Pericia Sobrevivencia: {personagem.pericias.lista['sobrevivencia']}\")\n",
    "print(f\"Pericia Percepcao: {personagem.pericias.lista['percepcao']}\")"
   ]
  },
  {
   "cell_type": "code",
   "execution_count": 11,
   "metadata": {},
   "outputs": [
    {
     "name": "stdout",
     "output_type": "stream",
     "text": [
      "Deslocamento: {'base': 9, 'devagar_e_sempre': 6}\n",
      "PV: {'atual': 10, 'up': {'base': 2, 'duro_como_pedra': 1}, 'mod': {'duro_como_pedra': 3}}\n"
     ]
    }
   ],
   "source": [
    "#VERIFICANDO ALTERAÇÕES DA RACA\n",
    "\n",
    "print(f'Deslocamento: {personagem.deslocamento}')\n",
    "print(f'PV: {personagem.pv}')\n",
    "assert personagem.deslocamento['devagar_e_sempre'] == 6"
   ]
  },
  {
   "cell_type": "code",
   "execution_count": 9,
   "metadata": {},
   "outputs": [
    {
     "name": "stdout",
     "output_type": "stream",
     "text": [
      "Nome: Thorin\n",
      "Raça: anao\n",
      "Classe: None\n",
      "Nível: 1\n",
      "Divindade: None\n",
      "Atributos: {'for': 1, 'des': 1, 'con': 4, 'int': 2, 'sab': 3, 'car': 3}\n",
      "PV Atual: 10\n",
      "PV Máximo: 18\n",
      "PM Atual: 5\n",
      "Localização: None\n",
      "\n"
     ]
    }
   ],
   "source": [
    "print(personagem)"
   ]
  }
 ],
 "metadata": {
  "kernelspec": {
   "display_name": "Python 3",
   "language": "python",
   "name": "python3"
  },
  "language_info": {
   "codemirror_mode": {
    "name": "ipython",
    "version": 3
   },
   "file_extension": ".py",
   "mimetype": "text/x-python",
   "name": "python",
   "nbconvert_exporter": "python",
   "pygments_lexer": "ipython3",
   "version": "3.10.12"
  }
 },
 "nbformat": 4,
 "nbformat_minor": 2
}
